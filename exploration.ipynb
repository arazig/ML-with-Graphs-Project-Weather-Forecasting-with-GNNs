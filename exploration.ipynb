{
 "cells": [
  {
   "cell_type": "markdown",
   "metadata": {},
   "source": [
    "# Experiment: Latent Variable Sampling in a Graph-Based Model\n",
    "\n",
    "## Objective\n",
    "The goal of this experiment is to explore the probabilistic modeling component of the **Graph-EFM** framework by generating and sampling the latent variable \\( Z \\) in a toy graph-based setting. This allows us to:\n",
    "- Understand how uncertainty is modeled and propagated in a graph.\n",
    "- Experiment with different parameters (e.g., variance of \\( Z \\), graph structure).\n",
    "- Visualize the impact of \\( Z \\) on the final output.\n",
    "\n",
    "---\n",
    "\n",
    "## Key Components\n",
    "\n",
    "### 1. **Graph Construction**\n",
    "- A toy graph is created with `num_nodes` nodes and random features.\n",
    "- Edges connect every node to every other node (fully connected graph).\n",
    "\n",
    "### 2. **GNN Encoder**\n",
    "- A Graph Neural Network (GNN) encodes node features into the mean of the latent variable \\( \\mu_Z \\).\n",
    "- The GNN uses **GCNConv** layers from PyTorch Geometric.\n",
    "\n",
    "### 3. **Latent Variable \\( Z \\)**\n",
    "- \\( Z \\) is sampled from a Gaussian distribution \\( \\mathcal{N}(\\mu_Z, \\sigma_Z^2) \\).\n",
    "- The reparameterization trick is used for differentiable sampling:\n",
    "  \\[\n",
    "  Z = \\mu_Z + \\sigma_Z \\cdot \\epsilon, \\quad \\epsilon \\sim \\mathcal{N}(0, 1)\n",
    "  \\]\n",
    "\n",
    "### 4. **Decoder**\n",
    "- A simple Multi-Layer Perceptron (MLP) maps \\( Z \\) back to an output space (e.g., a weather variable).\n",
    "\n",
    "### 5. **Visualization**\n",
    "- Heatmaps are used to visualize:\n",
    "  - The mean of \\( Z \\) (`mu_Z`).\n",
    "  - Sampled \\( Z \\).\n",
    "  - Decoded output.\n",
    "\n",
    "---\n",
    "\n",
    "## Code Overview\n",
    "\n",
    "```python\n",
    "# Key steps in the code:\n",
    "# 1. Create a toy graph with random features.\n",
    "# 2. Encode node features into mu_Z using a GNN.\n",
    "# 3. Sample Z from a Gaussian distribution.\n",
    "# 4. Decode Z into an output.\n",
    "# 5. Visualize mu_Z, Z, and the decoded output."
   ]
  },
  {
   "cell_type": "code",
   "execution_count": null,
   "metadata": {},
   "outputs": [
    {
     "ename": "ModuleNotFoundError",
     "evalue": "No module named 'torch_geometric'",
     "output_type": "error",
     "traceback": [
      "\u001b[0;31m---------------------------------------------------------------------------\u001b[0m",
      "\u001b[0;31mModuleNotFoundError\u001b[0m                       Traceback (most recent call last)",
      "Cell \u001b[0;32mIn[1], line 5\u001b[0m\n\u001b[1;32m      3\u001b[0m \u001b[38;5;28;01mimport\u001b[39;00m \u001b[38;5;21;01mtorch\u001b[39;00m\u001b[38;5;21;01m.\u001b[39;00m\u001b[38;5;21;01mnn\u001b[39;00m\u001b[38;5;21;01m.\u001b[39;00m\u001b[38;5;21;01mfunctional\u001b[39;00m \u001b[38;5;28;01mas\u001b[39;00m \u001b[38;5;21;01mF\u001b[39;00m\n\u001b[1;32m      4\u001b[0m \u001b[38;5;28;01mimport\u001b[39;00m \u001b[38;5;21;01mtorch\u001b[39;00m\u001b[38;5;21;01m.\u001b[39;00m\u001b[38;5;21;01mdistributions\u001b[39;00m \u001b[38;5;28;01mas\u001b[39;00m \u001b[38;5;21;01mdist\u001b[39;00m\n\u001b[0;32m----> 5\u001b[0m \u001b[38;5;28;01mfrom\u001b[39;00m \u001b[38;5;21;01mtorch_geometric\u001b[39;00m\u001b[38;5;21;01m.\u001b[39;00m\u001b[38;5;21;01mdata\u001b[39;00m \u001b[38;5;28;01mimport\u001b[39;00m Data\n\u001b[1;32m      6\u001b[0m \u001b[38;5;28;01mfrom\u001b[39;00m \u001b[38;5;21;01mtorch_geometric\u001b[39;00m\u001b[38;5;21;01m.\u001b[39;00m\u001b[38;5;21;01mnn\u001b[39;00m \u001b[38;5;28;01mimport\u001b[39;00m GCNConv\n\u001b[1;32m      7\u001b[0m \u001b[38;5;28;01mimport\u001b[39;00m \u001b[38;5;21;01mmatplotlib\u001b[39;00m\u001b[38;5;21;01m.\u001b[39;00m\u001b[38;5;21;01mpyplot\u001b[39;00m \u001b[38;5;28;01mas\u001b[39;00m \u001b[38;5;21;01mplt\u001b[39;00m\n",
      "\u001b[0;31mModuleNotFoundError\u001b[0m: No module named 'torch_geometric'"
     ]
    }
   ],
   "source": [
    "import torch\n",
    "import torch.nn as nn\n",
    "import torch.nn.functional as F\n",
    "import torch.distributions as dist\n",
    "from torch_geometric.data import Data\n",
    "from torch_geometric.nn import GCNConv\n",
    "import matplotlib.pyplot as plt\n",
    "import numpy as np\n"
   ]
  },
  {
   "cell_type": "code",
   "execution_count": null,
   "metadata": {},
   "outputs": [],
   "source": [
    "\n",
    "class GNNEncoder(nn.Module):\n",
    "    '''Graph Neural Network (GNN) for encoding'''\n",
    "    def __init__(self, input_dim, hidden_dim, latent_dim):\n",
    "        super(GNNEncoder, self).__init__()\n",
    "        self.conv1 = GCNConv(input_dim, hidden_dim)\n",
    "        self.conv2 = GCNConv(hidden_dim, latent_dim)\n",
    "        \n",
    "    def forward(self, x, edge_index):\n",
    "        x = F.relu(self.conv1(x, edge_index))\n",
    "        x = self.conv2(x, edge_index)\n",
    "        return x\n",
    "\n",
    "class Decoder(nn.Module):\n",
    "    '''simple decoder to map Z back to output space'''\n",
    "    def __init__(self, latent_dim, hidden_dim, output_dim):\n",
    "        super(Decoder, self).__init__()\n",
    "        self.mlp = nn.Sequential(\n",
    "            nn.Linear(latent_dim, hidden_dim),\n",
    "            nn.ReLU(),\n",
    "            nn.Linear(hidden_dim, output_dim))\n",
    "        \n",
    "    def forward(self, z):\n",
    "        return self.mlp(z)\n"
   ]
  },
  {
   "cell_type": "markdown",
   "metadata": {},
   "source": [
    "### Toy graph setup\n"
   ]
  },
  {
   "cell_type": "code",
   "execution_count": null,
   "metadata": {},
   "outputs": [],
   "source": [
    "\n",
    "def create_toy_graph(num_nodes, input_dim):\n",
    "    edge_index = torch.tensor([[i, j] for i in range(num_nodes) for j in range(num_nodes) if i != j], dtype=torch.long).t().contiguous()\n",
    "    x = torch.randn(num_nodes, input_dim)  # Random node features\n",
    "    return Data(x=x, edge_index=edge_index)\n"
   ]
  },
  {
   "cell_type": "code",
   "execution_count": null,
   "metadata": {},
   "outputs": [],
   "source": [
    "\n",
    "# Parameters\n",
    "input_dim = 10  # Input feature dimension for each node\n",
    "hidden_dim = 16  # Hidden dimension in GNN\n",
    "latent_dim = 5   # Dimension of latent variable Z\n",
    "output_dim = 1   # Output dimension (e.g., a single weather variable)\n",
    "num_nodes = 10   # Number of nodes in the graph\n",
    "sigma_Z = 1.0    # Fixed standard deviation for Z\n"
   ]
  },
  {
   "cell_type": "code",
   "execution_count": null,
   "metadata": {},
   "outputs": [],
   "source": [
    "# Create toy graph\n",
    "graph = create_toy_graph(num_nodes, input_dim)\n",
    "\n",
    "# Initialize encoder and decoder\n",
    "encoder = GNNEncoder(input_dim, hidden_dim, latent_dim)\n",
    "decoder = Decoder(latent_dim, hidden_dim, output_dim)\n",
    "\n",
    "# Forward pass: encode, sample Z, and decode\n",
    "mu_Z = encoder(graph.x, graph.edge_index)  # Encode to get mu_Z\n",
    "epsilon = torch.randn_like(mu_Z)           # Sample noise\n",
    "Z = mu_Z + sigma_Z * epsilon               # Reparameterization trick\n",
    "output = decoder(Z)                        # Decode Z to output\n"
   ]
  },
  {
   "cell_type": "code",
   "execution_count": null,
   "metadata": {},
   "outputs": [],
   "source": [
    "\n",
    "def visualize_results(mu_Z, Z, output):\n",
    "    plt.figure(figsize=(15, 5))\n",
    "    \n",
    "    #  mu_Z (mean of Z)\n",
    "    plt.subplot(1, 3, 1)\n",
    "    plt.title(\"Mean of Z (mu_Z)\")\n",
    "    plt.imshow(mu_Z.detach().numpy(), cmap='viridis', aspect='auto')\n",
    "    plt.colorbar()\n",
    "    \n",
    "    #  sampled Z\n",
    "    plt.subplot(1, 3, 2)\n",
    "    plt.title(\"Sampled Z\")\n",
    "    plt.imshow(Z.detach().numpy(), cmap='viridis', aspect='auto')\n",
    "    plt.colorbar()\n",
    "    \n",
    "    #  decoded output\n",
    "    plt.subplot(1, 3, 3)\n",
    "    plt.title(\"Decoded Output\")\n",
    "    plt.imshow(output.detach().numpy(), cmap='viridis', aspect='auto')\n",
    "    plt.colorbar()\n",
    "    \n",
    "    plt.tight_layout()\n",
    "    plt.show()\n",
    "\n",
    "visualize_results(mu_Z, Z, output)\n",
    "\n",
    "#  values for debugging\n",
    "print(\"Mean of Z (mu_Z):\\n\", mu_Z.detach().numpy())\n",
    "print(\"Sampled Z:\\n\", Z.detach().numpy())\n",
    "print(\"Decoded Output:\\n\", output.detach().numpy())"
   ]
  }
 ],
 "metadata": {
  "kernelspec": {
   "display_name": "base",
   "language": "python",
   "name": "python3"
  },
  "language_info": {
   "codemirror_mode": {
    "name": "ipython",
    "version": 3
   },
   "file_extension": ".py",
   "mimetype": "text/x-python",
   "name": "python",
   "nbconvert_exporter": "python",
   "pygments_lexer": "ipython3",
   "version": "3.11.5"
  }
 },
 "nbformat": 4,
 "nbformat_minor": 2
}
